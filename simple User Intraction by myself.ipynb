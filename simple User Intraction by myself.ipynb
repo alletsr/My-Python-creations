{
 "cells": [
  {
   "cell_type": "code",
   "execution_count": null,
   "metadata": {},
   "outputs": [],
   "source": [
    "def choose_index(x):\n",
    "    while x:\n",
    "        index=input(\"Choose a position of the Slogan which you want to change\\n\")\n",
    "        if index.isdigit()==False:\n",
    "            print('Please enter an Integer\\n')\n",
    "        if index.isdigit()==True:\n",
    "            index1=int(index)\n",
    "            range_tocheck=[0,1,2]\n",
    "            if index1 in range_tocheck:\n",
    "                print(f'Lets Change the index {index1} with Desired Word')\n",
    "                x=False\n",
    "            else:\n",
    "                print(\"Please Enter a Interger within the index range [0,1,2]\\n\")\n",
    "    return index1\n"
   ]
  },
  {
   "cell_type": "code",
   "execution_count": null,
   "metadata": {},
   "outputs": [],
   "source": [
    "def desired_word(index1=choose_index(1)):\n",
    "    desired_word=str(input(\"Enter Your Desirable word to change\"))\n",
    "    word[index1]=desired_word\n",
    "    print(word)\n",
    "    "
   ]
  },
  {
   "cell_type": "code",
   "execution_count": null,
   "metadata": {},
   "outputs": [],
   "source": [
    "def restart_game(r='p'):\n",
    "    restart=bool(input('Press any key to continue the game or Press enter to stop the game'))\n",
    "    if restart==True:\n",
    "        start()"
   ]
  },
  {
   "cell_type": "code",
   "execution_count": null,
   "metadata": {},
   "outputs": [],
   "source": [
    "def start(o='p'):\n",
    "    word=['I am','a','Loser']\n",
    "    print(f'The initial sentence is {word}')\n",
    "    index1=choose_index(1)\n",
    "    desired_word()\n",
    "    restart_game()"
   ]
  },
  {
   "cell_type": "code",
   "execution_count": null,
   "metadata": {},
   "outputs": [],
   "source": [
    "start()"
   ]
  }
 ],
 "metadata": {
  "kernelspec": {
   "display_name": "Python 3",
   "language": "python",
   "name": "python3"
  },
  "language_info": {
   "codemirror_mode": {
    "name": "ipython",
    "version": 3
   },
   "file_extension": ".py",
   "mimetype": "text/x-python",
   "name": "python",
   "nbconvert_exporter": "python",
   "pygments_lexer": "ipython3",
   "version": "3.8.5"
  }
 },
 "nbformat": 4,
 "nbformat_minor": 4
}
